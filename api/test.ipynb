{
 "cells": [
  {
   "cell_type": "code",
   "execution_count": 18,
   "metadata": {},
   "outputs": [],
   "source": [
    "from transformers import AutoTokenizer, AutoModelForCausalLM\n",
    "\n",
    "tokenizer = AutoTokenizer.from_pretrained('gpt2-xl')\n",
    "model = AutoModelForCausalLM.from_pretrained('gpt2-xl')"
   ]
  },
  {
   "cell_type": "code",
   "execution_count": 23,
   "metadata": {},
   "outputs": [
    {
     "name": "stderr",
     "output_type": "stream",
     "text": [
      "The attention mask and the pad token id were not set. As a consequence, you may observe unexpected behavior. Please pass your input's `attention_mask` to obtain reliable results.\n",
      "Setting `pad_token_id` to `eos_token_id`:50256 for open-end generation.\n"
     ]
    }
   ],
   "source": [
    "text = \"The target is not in my sight. I'm positioned on [-1, 4], and the target is on [3, 2]. I need \"\n",
    "ids = tokenizer(text, return_tensors='pt').input_ids\n",
    "gen_tokens = model.generate(ids, max_length=100, do_sample=True)\n",
    "gen_text = tokenizer.batch_decode(gen_tokens)[0]"
   ]
  },
  {
   "cell_type": "code",
   "execution_count": 24,
   "metadata": {},
   "outputs": [
    {
     "data": {
      "text/plain": [
       "\"The target is not in my sight. I'm positioned on [-1, 4], and the target is on [3, 2]. I need ________ for you to see me. I'm going to draw you a picture again, from my perspective. But this time, I really need you to have a vision.... [1, 4, 3] [2, 0] [1, 4] [2, 0] [0, 3] [1, 4] [2, 0] It's not the time to think about it. All I need is to turn the corner, and I give it to you... [0, 2] [1, 0] A shadow, as it follows me across the room, all the way through the corner in front of me, and on to the other side of the room. [0] I'm not afraid. It's not that it's not afraid of me, but it's simply not interested in me... [1]\""
      ]
     },
     "execution_count": 24,
     "metadata": {},
     "output_type": "execute_result"
    }
   ],
   "source": [
    "gen_text"
   ]
  },
  {
   "cell_type": "code",
   "execution_count": null,
   "metadata": {},
   "outputs": [],
   "source": []
  }
 ],
 "metadata": {
  "kernelspec": {
   "display_name": "Python 3",
   "language": "python",
   "name": "python3"
  },
  "language_info": {
   "codemirror_mode": {
    "name": "ipython",
    "version": 3
   },
   "file_extension": ".py",
   "mimetype": "text/x-python",
   "name": "python",
   "nbconvert_exporter": "python",
   "pygments_lexer": "ipython3",
   "version": "3.11.4"
  },
  "orig_nbformat": 4
 },
 "nbformat": 4,
 "nbformat_minor": 2
}
